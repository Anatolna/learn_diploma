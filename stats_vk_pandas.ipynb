{
 "cells": [
  {
   "cell_type": "code",
   "execution_count": 27,
   "metadata": {},
   "outputs": [
    {
     "name": "stdout",
     "output_type": "stream",
     "text": [
      "Введите название сообщества: potomuchtoludi\n"
     ]
    }
   ],
   "source": [
    "from datetime import datetime\n",
    "import matplotlib.pyplot as plt\n",
    "import pandas as pd\n",
    "\n",
    "import vkapp.parser\n",
    "from vkapp.parser import posts_collector, comments_collector\n",
    "from vkapp.parser import access_token, api_version, offset, count\n",
    "\n",
    "domain = input('Введите название сообщества: ')"
   ]
  },
  {
   "cell_type": "code",
   "execution_count": 28,
   "metadata": {},
   "outputs": [],
   "source": [
    "%matplotlib inline"
   ]
  },
  {
   "cell_type": "code",
   "execution_count": 29,
   "metadata": {},
   "outputs": [
    {
     "data": {
      "text/html": [
       "<div>\n",
       "<style scoped>\n",
       "    .dataframe tbody tr th:only-of-type {\n",
       "        vertical-align: middle;\n",
       "    }\n",
       "\n",
       "    .dataframe tbody tr th {\n",
       "        vertical-align: top;\n",
       "    }\n",
       "\n",
       "    .dataframe thead th {\n",
       "        text-align: right;\n",
       "    }\n",
       "</style>\n",
       "<table border=\"1\" class=\"dataframe\">\n",
       "  <thead>\n",
       "    <tr style=\"text-align: right;\">\n",
       "      <th></th>\n",
       "      <th>id</th>\n",
       "      <th>post_likes</th>\n",
       "      <th>text</th>\n",
       "      <th>post_pics</th>\n",
       "      <th>date</th>\n",
       "    </tr>\n",
       "  </thead>\n",
       "  <tbody>\n",
       "    <tr>\n",
       "      <th>88</th>\n",
       "      <td>18</td>\n",
       "      <td>60</td>\n",
       "      <td>Нами пишут: «А животные? Им не надо помогать?»...</td>\n",
       "      <td>False</td>\n",
       "      <td>10/09/18 12:48</td>\n",
       "    </tr>\n",
       "    <tr>\n",
       "      <th>67</th>\n",
       "      <td>100</td>\n",
       "      <td>14</td>\n",
       "      <td>🔔 И еще один анонс #ПотомуЧтоЛюди \\n\\nНедавно ...</td>\n",
       "      <td>True</td>\n",
       "      <td>24/09/18 16:46</td>\n",
       "    </tr>\n",
       "    <tr>\n",
       "      <th>31</th>\n",
       "      <td>404</td>\n",
       "      <td>31</td>\n",
       "      <td>Привет! Перед Новым годом подведем очередные и...</td>\n",
       "      <td>False</td>\n",
       "      <td>28/12/18 12:39</td>\n",
       "    </tr>\n",
       "    <tr>\n",
       "      <th>87</th>\n",
       "      <td>23</td>\n",
       "      <td>121</td>\n",
       "      <td>⚡Мы запускаем проект #ПотомуЧтоЛюди\\n\\n🤔 Что э...</td>\n",
       "      <td>False</td>\n",
       "      <td>12/09/18 13:02</td>\n",
       "    </tr>\n",
       "    <tr>\n",
       "      <th>27</th>\n",
       "      <td>461</td>\n",
       "      <td>13</td>\n",
       "      <td>И очередные итоги! \\n\\nНа этот раз награждаем ...</td>\n",
       "      <td>False</td>\n",
       "      <td>21/01/19 17:28</td>\n",
       "    </tr>\n",
       "    <tr>\n",
       "      <th>17</th>\n",
       "      <td>532</td>\n",
       "      <td>18</td>\n",
       "      <td>Завтра новая серия #ПотомуЧтоЛюди! Герой выпус...</td>\n",
       "      <td>False</td>\n",
       "      <td>26/02/19 19:55</td>\n",
       "    </tr>\n",
       "    <tr>\n",
       "      <th>8</th>\n",
       "      <td>627</td>\n",
       "      <td>7</td>\n",
       "      <td>Настоящий учитель — самый важный человек после...</td>\n",
       "      <td>False</td>\n",
       "      <td>28/05/19 14:41</td>\n",
       "    </tr>\n",
       "  </tbody>\n",
       "</table>\n",
       "</div>"
      ],
      "text/plain": [
       "     id  post_likes                                               text  \\\n",
       "88   18          60  Нами пишут: «А животные? Им не надо помогать?»...   \n",
       "67  100          14  🔔 И еще один анонс #ПотомуЧтоЛюди \\n\\nНедавно ...   \n",
       "31  404          31  Привет! Перед Новым годом подведем очередные и...   \n",
       "87   23         121  ⚡Мы запускаем проект #ПотомуЧтоЛюди\\n\\n🤔 Что э...   \n",
       "27  461          13  И очередные итоги! \\n\\nНа этот раз награждаем ...   \n",
       "17  532          18  Завтра новая серия #ПотомуЧтоЛюди! Герой выпус...   \n",
       "8   627           7  Настоящий учитель — самый важный человек после...   \n",
       "\n",
       "    post_pics            date  \n",
       "88      False  10/09/18 12:48  \n",
       "67       True  24/09/18 16:46  \n",
       "31      False  28/12/18 12:39  \n",
       "87      False  12/09/18 13:02  \n",
       "27      False  21/01/19 17:28  \n",
       "17      False  26/02/19 19:55  \n",
       "8       False  28/05/19 14:41  "
      ]
     },
     "execution_count": 29,
     "metadata": {},
     "output_type": "execute_result"
    }
   ],
   "source": [
    "#Создаем DataFrame (таблицу) с колонками:\n",
    "posts = vkapp.parser.posts_collector(access_token, api_version, offset, count, domain)\n",
    "columns = ['id', 'post_likes', 'text', 'post_pics', 'date']\n",
    "df = pd.DataFrame(data=posts, columns=columns)\n",
    "df.sample(7)"
   ]
  },
  {
   "cell_type": "code",
   "execution_count": 30,
   "metadata": {},
   "outputs": [],
   "source": [
    "# к строкам можно делать срез по индексам\n",
    "# df.loc[100:109]"
   ]
  },
  {
   "cell_type": "code",
   "execution_count": 33,
   "metadata": {},
   "outputs": [
    {
     "data": {
      "text/html": [
       "<div>\n",
       "<style scoped>\n",
       "    .dataframe tbody tr th:only-of-type {\n",
       "        vertical-align: middle;\n",
       "    }\n",
       "\n",
       "    .dataframe tbody tr th {\n",
       "        vertical-align: top;\n",
       "    }\n",
       "\n",
       "    .dataframe thead th {\n",
       "        text-align: right;\n",
       "    }\n",
       "</style>\n",
       "<table border=\"1\" class=\"dataframe\">\n",
       "  <thead>\n",
       "    <tr style=\"text-align: right;\">\n",
       "      <th></th>\n",
       "      <th>id</th>\n",
       "      <th>post_likes</th>\n",
       "      <th>text</th>\n",
       "      <th>post_pics</th>\n",
       "      <th>date</th>\n",
       "    </tr>\n",
       "  </thead>\n",
       "  <tbody>\n",
       "    <tr>\n",
       "      <th>1</th>\n",
       "      <td>681</td>\n",
       "      <td>11</td>\n",
       "      <td>В 2013 году Елена Погребижская сняла документа...</td>\n",
       "      <td>False</td>\n",
       "      <td>24/09/19 15:03</td>\n",
       "    </tr>\n",
       "    <tr>\n",
       "      <th>3</th>\n",
       "      <td>646</td>\n",
       "      <td>41</td>\n",
       "      <td>Герой нового выпуска #ПотомуЧтоЛюди — Дмитрий ...</td>\n",
       "      <td>False</td>\n",
       "      <td>24/06/19 17:56</td>\n",
       "    </tr>\n",
       "    <tr>\n",
       "      <th>7</th>\n",
       "      <td>628</td>\n",
       "      <td>14</td>\n",
       "      <td>Новое видео! Ирина Прохорова рассказала об ува...</td>\n",
       "      <td>False</td>\n",
       "      <td>29/05/19 18:17</td>\n",
       "    </tr>\n",
       "    <tr>\n",
       "      <th>8</th>\n",
       "      <td>627</td>\n",
       "      <td>7</td>\n",
       "      <td>Настоящий учитель — самый важный человек после...</td>\n",
       "      <td>False</td>\n",
       "      <td>28/05/19 14:41</td>\n",
       "    </tr>\n",
       "    <tr>\n",
       "      <th>9</th>\n",
       "      <td>624</td>\n",
       "      <td>17</td>\n",
       "      <td>⚡⚡⚡ #ПотомуЧтоЛюди запускают новый проект — об...</td>\n",
       "      <td>False</td>\n",
       "      <td>21/05/19 12:35</td>\n",
       "    </tr>\n",
       "  </tbody>\n",
       "</table>\n",
       "</div>"
      ],
      "text/plain": [
       "    id  post_likes                                               text  \\\n",
       "1  681          11  В 2013 году Елена Погребижская сняла документа...   \n",
       "3  646          41  Герой нового выпуска #ПотомуЧтоЛюди — Дмитрий ...   \n",
       "7  628          14  Новое видео! Ирина Прохорова рассказала об ува...   \n",
       "8  627           7  Настоящий учитель — самый важный человек после...   \n",
       "9  624          17  ⚡⚡⚡ #ПотомуЧтоЛюди запускают новый проект — об...   \n",
       "\n",
       "   post_pics            date  \n",
       "1      False  24/09/19 15:03  \n",
       "3      False  24/06/19 17:56  \n",
       "7      False  29/05/19 18:17  \n",
       "8      False  28/05/19 14:41  \n",
       "9      False  21/05/19 12:35  "
      ]
     },
     "execution_count": 33,
     "metadata": {},
     "output_type": "execute_result"
    }
   ],
   "source": [
    "filter_data = df[(df['date'] > '16/05/19 00:00') & (df['date'] < '30/06/19 00:00')]\n",
    "filter_data.head()"
   ]
  },
  {
   "cell_type": "code",
   "execution_count": 36,
   "metadata": {},
   "outputs": [
    {
     "data": {
      "text/plain": [
       "(96, 5)"
      ]
     },
     "execution_count": 36,
     "metadata": {},
     "output_type": "execute_result"
    }
   ],
   "source": [
    "# сколько в датафрейме строк и колонок\n",
    "df.shape"
   ]
  },
  {
   "cell_type": "code",
   "execution_count": 37,
   "metadata": {},
   "outputs": [
    {
     "data": {
      "text/html": [
       "<div>\n",
       "<style scoped>\n",
       "    .dataframe tbody tr th:only-of-type {\n",
       "        vertical-align: middle;\n",
       "    }\n",
       "\n",
       "    .dataframe tbody tr th {\n",
       "        vertical-align: top;\n",
       "    }\n",
       "\n",
       "    .dataframe thead th {\n",
       "        text-align: right;\n",
       "    }\n",
       "</style>\n",
       "<table border=\"1\" class=\"dataframe\">\n",
       "  <thead>\n",
       "    <tr style=\"text-align: right;\">\n",
       "      <th></th>\n",
       "      <th>id</th>\n",
       "      <th>post_likes</th>\n",
       "    </tr>\n",
       "  </thead>\n",
       "  <tbody>\n",
       "    <tr>\n",
       "      <th>count</th>\n",
       "      <td>96.000000</td>\n",
       "      <td>96.000000</td>\n",
       "    </tr>\n",
       "    <tr>\n",
       "      <th>mean</th>\n",
       "      <td>280.656250</td>\n",
       "      <td>82.864583</td>\n",
       "    </tr>\n",
       "    <tr>\n",
       "      <th>std</th>\n",
       "      <td>220.842636</td>\n",
       "      <td>118.195700</td>\n",
       "    </tr>\n",
       "    <tr>\n",
       "      <th>min</th>\n",
       "      <td>1.000000</td>\n",
       "      <td>1.000000</td>\n",
       "    </tr>\n",
       "    <tr>\n",
       "      <th>25%</th>\n",
       "      <td>84.750000</td>\n",
       "      <td>13.000000</td>\n",
       "    </tr>\n",
       "    <tr>\n",
       "      <th>50%</th>\n",
       "      <td>209.500000</td>\n",
       "      <td>27.500000</td>\n",
       "    </tr>\n",
       "    <tr>\n",
       "      <th>75%</th>\n",
       "      <td>502.500000</td>\n",
       "      <td>90.250000</td>\n",
       "    </tr>\n",
       "    <tr>\n",
       "      <th>max</th>\n",
       "      <td>710.000000</td>\n",
       "      <td>558.000000</td>\n",
       "    </tr>\n",
       "  </tbody>\n",
       "</table>\n",
       "</div>"
      ],
      "text/plain": [
       "               id  post_likes\n",
       "count   96.000000   96.000000\n",
       "mean   280.656250   82.864583\n",
       "std    220.842636  118.195700\n",
       "min      1.000000    1.000000\n",
       "25%     84.750000   13.000000\n",
       "50%    209.500000   27.500000\n",
       "75%    502.500000   90.250000\n",
       "max    710.000000  558.000000"
      ]
     },
     "execution_count": 37,
     "metadata": {},
     "output_type": "execute_result"
    }
   ],
   "source": [
    "df.describe()"
   ]
  },
  {
   "cell_type": "code",
   "execution_count": 38,
   "metadata": {},
   "outputs": [
    {
     "data": {
      "text/plain": [
       "id            2\n",
       "post_likes    2\n",
       "text          2\n",
       "post_pics     2\n",
       "date          2\n",
       "dtype: int64"
      ]
     },
     "execution_count": 38,
     "metadata": {},
     "output_type": "execute_result"
    }
   ],
   "source": [
    "# считаем кол-во постов, у которых больше 500 лайков\n",
    "likes_more_500 = df[df.post_likes > 500].count()\n",
    "likes_more_500"
   ]
  },
  {
   "cell_type": "code",
   "execution_count": 39,
   "metadata": {},
   "outputs": [],
   "source": [
    "num_likes = df.groupby(['post_likes']).size()\n",
    "# num_likes.sort_values()"
   ]
  },
  {
   "cell_type": "code",
   "execution_count": 40,
   "metadata": {},
   "outputs": [
    {
     "data": {
      "text/plain": [
       "<matplotlib.legend.Legend at 0x116ea9fd0>"
      ]
     },
     "execution_count": 40,
     "metadata": {},
     "output_type": "execute_result"
    },
    {
     "data": {
      "image/png": "[encoded data removed]",
      "text/plain": [
       "<Figure size 432x288 with 1 Axes>"
      ]
     },
     "metadata": {},
     "output_type": "display_data"
    }
   ],
   "source": [
    "#кол-во постов с фото, True - есть фото\n",
    "pics = df.groupby(['post_pics'])['text'].size()\n",
    "plt.pie(pics, labels=pics.index, autopct='%.0f')\n",
    "plt.title('Число постов с картинками')\n",
    "plt.legend()"
   ]
  },
  {
   "cell_type": "code",
   "execution_count": 41,
   "metadata": {},
   "outputs": [
    {
     "data": {
      "text/plain": [
       "558"
      ]
     },
     "execution_count": 41,
     "metadata": {},
     "output_type": "execute_result"
    }
   ],
   "source": [
    "max_likes = df.post_likes.max()\n",
    "max_likes"
   ]
  },
  {
   "cell_type": "code",
   "execution_count": 42,
   "metadata": {},
   "outputs": [
    {
     "data": {
      "image/png": "[encoded data removed]",
      "text/plain": [
       "<Figure size 432x288 with 1 Axes>"
      ]
     },
     "metadata": {
      "needs_background": "light"
     },
     "output_type": "display_data"
    }
   ],
   "source": [
    "df_date = df.date\n",
    "df_likes = df.post_likes\n",
    "plt.plot(df_date, df_likes)\n",
    "plt.show()"
   ]
  },
  {
   "cell_type": "code",
   "execution_count": null,
   "metadata": {},
   "outputs": [],
   "source": []
  }
 ],
 "metadata": {
  "kernelspec": {
   "display_name": "Python 3",
   "language": "python",
   "name": "python3"
  },
  "language_info": {
   "codemirror_mode": {
    "name": "ipython",
    "version": 3
   },
   "file_extension": ".py",
   "mimetype": "text/x-python",
   "name": "python",
   "nbconvert_exporter": "python",
   "pygments_lexer": "ipython3",
   "version": "3.7.4"
  }
 },
 "nbformat": 4,
 "nbformat_minor": 2
}
